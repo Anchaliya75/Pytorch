{
  "nbformat": 4,
  "nbformat_minor": 0,
  "metadata": {
    "colab": {
      "provenance": [],
      "authorship_tag": "ABX9TyMNHLC6EWtzmW8EJTc04Ptx",
      "include_colab_link": true
    },
    "kernelspec": {
      "name": "python3",
      "display_name": "Python 3"
    },
    "language_info": {
      "name": "python"
    }
  },
  "cells": [
    {
      "cell_type": "markdown",
      "metadata": {
        "id": "view-in-github",
        "colab_type": "text"
      },
      "source": [
        "<a href=\"https://colab.research.google.com/github/Anchaliya75/Pytorch/blob/main/pytorch_CNN_MNIST.ipynb\" target=\"_parent\"><img src=\"https://colab.research.google.com/assets/colab-badge.svg\" alt=\"Open In Colab\"/></a>"
      ]
    },
    {
      "cell_type": "code",
      "execution_count": 302,
      "metadata": {
        "id": "SN-zTY_Qrd0T"
      },
      "outputs": [],
      "source": [
        "import torch\n",
        "import torch.nn.functional as F\n",
        "import torch.nn as nn\n",
        "import torch.optim as optim\n",
        "from torchvision.transforms import ToTensor\n"
      ]
    },
    {
      "cell_type": "code",
      "source": [
        "import torchvision\n"
      ],
      "metadata": {
        "id": "dK1dXXDYrlFC"
      },
      "execution_count": 303,
      "outputs": []
    },
    {
      "cell_type": "code",
      "source": [
        "import torchvision.datasets as datasets\n"
      ],
      "metadata": {
        "id": "0SnqjdRCsPtq"
      },
      "execution_count": 304,
      "outputs": []
    },
    {
      "cell_type": "code",
      "source": [
        "mnist_trainset = datasets.MNIST(root='./data', train=True, download=True, transform= ToTensor())\n"
      ],
      "metadata": {
        "id": "ZD1EorqctLxN"
      },
      "execution_count": 305,
      "outputs": []
    },
    {
      "cell_type": "code",
      "source": [
        "mnist_testset = datasets.MNIST(root='./data', train=False, download=True, transform= ToTensor())\n"
      ],
      "metadata": {
        "id": "ckHt_g01tOSn"
      },
      "execution_count": 306,
      "outputs": []
    },
    {
      "cell_type": "code",
      "source": [
        "from torch.utils.data import DataLoader as dl\n",
        "train_data = dl(mnist_trainset,batch_size=100,shuffle =True)\n",
        "test_data  = dl(mnist_testset,batch_size=100,shuffle =True)\n",
        "batch_size=100"
      ],
      "metadata": {
        "id": "fIxkfIFe3DaP"
      },
      "execution_count": 307,
      "outputs": []
    },
    {
      "cell_type": "code",
      "source": [
        "class CNN(nn.Module):\n",
        "  def __init__(self):\n",
        "    super().__init__()\n",
        "    self.conv1 = nn.Conv2d(in_channels=1,out_channels=6,kernel_size=3,padding =1 )\n",
        "    self.pool1 =nn.MaxPool2d(2)\n",
        "    self.linear1=nn.Linear(6*14*14,32)\n",
        "    self.linear2= nn.Linear(32,10)\n",
        "    self.batch_size=batch_size\n",
        "\n",
        "  def forward(self,feature):\n",
        "    x= self.conv1(feature)\n",
        "    x=self.pool1(x)\n",
        "    x=x.reshape(batch_size,-1)\n",
        "    \n",
        "    # print(x.shape)\n",
        "    x=self.linear1(x)\n",
        "    x=self.linear2(x)\n",
        "  \n",
        "    return x\n",
        "\n",
        "\n",
        "\n",
        "    \n"
      ],
      "metadata": {
        "id": "hcOwmVTB3SN4"
      },
      "execution_count": 309,
      "outputs": []
    },
    {
      "cell_type": "code",
      "source": [
        "cnn=CNN()\n",
        "loss_function =nn.CrossEntropyLoss()\n",
        "optimizer = optim.Adam(cnn.parameters(),lr=0.001)"
      ],
      "metadata": {
        "id": "lHfKku4I30YM"
      },
      "execution_count": 310,
      "outputs": []
    },
    {
      "cell_type": "code",
      "source": [
        "epochs =10\n",
        "for i in range(epochs):\n",
        "  for data in train_data:\n",
        "    x,y = data\n",
        "    \n",
        "    cnn.zero_grad()\n",
        "    # label =label.to_tensor()\n",
        "    prediction = cnn.forward(x.float())\n",
        "    loss = loss_function(prediction,y)\n",
        "    loss.backward()\n",
        "    optimizer.step()\n",
        "  print(loss)\n",
        "    \n"
      ],
      "metadata": {
        "colab": {
          "base_uri": "https://localhost:8080/"
        },
        "id": "F3Kw-FEV9oH5",
        "outputId": "c93a8250-8e5b-4a93-861f-36eb8d27f98b"
      },
      "execution_count": 327,
      "outputs": [
        {
          "output_type": "stream",
          "name": "stdout",
          "text": [
            "tensor(0.1877, grad_fn=<NllLossBackward0>)\n",
            "tensor(0.1085, grad_fn=<NllLossBackward0>)\n",
            "tensor(0.1997, grad_fn=<NllLossBackward0>)\n",
            "tensor(0.1039, grad_fn=<NllLossBackward0>)\n",
            "tensor(0.1231, grad_fn=<NllLossBackward0>)\n",
            "tensor(0.1369, grad_fn=<NllLossBackward0>)\n",
            "tensor(0.0650, grad_fn=<NllLossBackward0>)\n",
            "tensor(0.0587, grad_fn=<NllLossBackward0>)\n",
            "tensor(0.1192, grad_fn=<NllLossBackward0>)\n",
            "tensor(0.0160, grad_fn=<NllLossBackward0>)\n"
          ]
        }
      ]
    },
    {
      "cell_type": "code",
      "source": [
        "\n",
        "correct =0\n",
        "total=0\n",
        "with torch.no_grad():\n",
        "  for data in test_data:\n",
        "    x,y =data\n",
        "    predcicted_probability = cnn.forward(x.float())\n",
        "    for idx,prob_one_sample  in enumerate(predcicted_probability):\n",
        "      if(y[idx]==torch.argmax(prob_one_sample)):\n",
        "        correct+=1\n",
        "      total+=1\n",
        "    "
      ],
      "metadata": {
        "id": "FHSvOrQzhlzE"
      },
      "execution_count": 328,
      "outputs": []
    },
    {
      "cell_type": "code",
      "source": [
        "print(\"accuracy is\"  , (correct)/(total))"
      ],
      "metadata": {
        "colab": {
          "base_uri": "https://localhost:8080/"
        },
        "id": "LpzN0Mmnju-W",
        "outputId": "bcc7f81c-f0c7-4cd1-b3e9-6affc980f434"
      },
      "execution_count": 329,
      "outputs": [
        {
          "output_type": "stream",
          "name": "stdout",
          "text": [
            "accuracy is 0.9766\n"
          ]
        }
      ]
    },
    {
      "cell_type": "code",
      "source": [],
      "metadata": {
        "id": "fqWKjCSkopPE"
      },
      "execution_count": null,
      "outputs": []
    }
  ]
}